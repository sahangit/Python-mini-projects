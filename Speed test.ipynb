{
 "cells": [
  {
   "cell_type": "code",
   "execution_count": 1,
   "id": "87bd73ba",
   "metadata": {},
   "outputs": [],
   "source": [
    "import speedtest"
   ]
  },
  {
   "cell_type": "code",
   "execution_count": 2,
   "id": "b499de4a",
   "metadata": {},
   "outputs": [
    {
     "name": "stdout",
     "output_type": "stream",
     "text": [
      "Download speed: 7482752.433202252\n",
      "Upload speed: 1244471.3054251028\n"
     ]
    }
   ],
   "source": [
    "test = speedtest.Speedtest()\n",
    "down = test.download()\n",
    "upload = test.upload()\n",
    "\n",
    "print(f'Download speed: {down}')\n",
    "print(f'Upload speed: {upload}')"
   ]
  },
  {
   "cell_type": "code",
   "execution_count": null,
   "id": "23807dfa",
   "metadata": {},
   "outputs": [],
   "source": []
  }
 ],
 "metadata": {
  "kernelspec": {
   "display_name": "Python 3",
   "language": "python",
   "name": "python3"
  },
  "language_info": {
   "codemirror_mode": {
    "name": "ipython",
    "version": 3
   },
   "file_extension": ".py",
   "mimetype": "text/x-python",
   "name": "python",
   "nbconvert_exporter": "python",
   "pygments_lexer": "ipython3",
   "version": "3.8.8"
  }
 },
 "nbformat": 4,
 "nbformat_minor": 5
}
